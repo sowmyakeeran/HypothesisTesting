{
 "cells": [
  {
   "cell_type": "markdown",
   "id": "8c4d2b7d",
   "metadata": {},
   "source": [
    "                              HypothesisTesting\n",
    "    NUll Hypothesis denoted by H0\n",
    "    \n",
    "    Alternative Hypothesis by H1\n",
    "    \n",
    "    depends on the pvalue(probablityvalue)we can decide accept or reject \n",
    "    if pvalue<0.05 (reject null hypothesis)"
   ]
  },
  {
   "cell_type": "code",
   "execution_count": 2,
   "id": "732d3c1a",
   "metadata": {},
   "outputs": [
    {
     "data": {
      "text/html": [
       "<div>\n",
       "<style scoped>\n",
       "    .dataframe tbody tr th:only-of-type {\n",
       "        vertical-align: middle;\n",
       "    }\n",
       "\n",
       "    .dataframe tbody tr th {\n",
       "        vertical-align: top;\n",
       "    }\n",
       "\n",
       "    .dataframe thead th {\n",
       "        text-align: right;\n",
       "    }\n",
       "</style>\n",
       "<table border=\"1\" class=\"dataframe\">\n",
       "  <thead>\n",
       "    <tr style=\"text-align: right;\">\n",
       "      <th></th>\n",
       "      <th>sl_no</th>\n",
       "      <th>gender</th>\n",
       "      <th>ssc_p</th>\n",
       "      <th>ssc_b</th>\n",
       "      <th>hsc_p</th>\n",
       "      <th>hsc_b</th>\n",
       "      <th>hsc_s</th>\n",
       "      <th>degree_p</th>\n",
       "      <th>degree_t</th>\n",
       "      <th>workex</th>\n",
       "      <th>etest_p</th>\n",
       "      <th>specialisation</th>\n",
       "      <th>mba_p</th>\n",
       "      <th>status</th>\n",
       "      <th>salary</th>\n",
       "    </tr>\n",
       "  </thead>\n",
       "  <tbody>\n",
       "    <tr>\n",
       "      <th>0</th>\n",
       "      <td>1</td>\n",
       "      <td>M</td>\n",
       "      <td>67.00</td>\n",
       "      <td>Others</td>\n",
       "      <td>91.00</td>\n",
       "      <td>Others</td>\n",
       "      <td>Commerce</td>\n",
       "      <td>58.00</td>\n",
       "      <td>Sci&amp;Tech</td>\n",
       "      <td>No</td>\n",
       "      <td>55.0</td>\n",
       "      <td>Mkt&amp;HR</td>\n",
       "      <td>58.80</td>\n",
       "      <td>Placed</td>\n",
       "      <td>270000.0</td>\n",
       "    </tr>\n",
       "    <tr>\n",
       "      <th>1</th>\n",
       "      <td>2</td>\n",
       "      <td>M</td>\n",
       "      <td>79.33</td>\n",
       "      <td>Central</td>\n",
       "      <td>78.33</td>\n",
       "      <td>Others</td>\n",
       "      <td>Science</td>\n",
       "      <td>77.48</td>\n",
       "      <td>Sci&amp;Tech</td>\n",
       "      <td>Yes</td>\n",
       "      <td>86.5</td>\n",
       "      <td>Mkt&amp;Fin</td>\n",
       "      <td>66.28</td>\n",
       "      <td>Placed</td>\n",
       "      <td>200000.0</td>\n",
       "    </tr>\n",
       "    <tr>\n",
       "      <th>2</th>\n",
       "      <td>3</td>\n",
       "      <td>M</td>\n",
       "      <td>65.00</td>\n",
       "      <td>Central</td>\n",
       "      <td>68.00</td>\n",
       "      <td>Central</td>\n",
       "      <td>Arts</td>\n",
       "      <td>64.00</td>\n",
       "      <td>Comm&amp;Mgmt</td>\n",
       "      <td>No</td>\n",
       "      <td>75.0</td>\n",
       "      <td>Mkt&amp;Fin</td>\n",
       "      <td>57.80</td>\n",
       "      <td>Placed</td>\n",
       "      <td>250000.0</td>\n",
       "    </tr>\n",
       "    <tr>\n",
       "      <th>3</th>\n",
       "      <td>4</td>\n",
       "      <td>M</td>\n",
       "      <td>56.00</td>\n",
       "      <td>Central</td>\n",
       "      <td>52.00</td>\n",
       "      <td>Central</td>\n",
       "      <td>Science</td>\n",
       "      <td>52.00</td>\n",
       "      <td>Sci&amp;Tech</td>\n",
       "      <td>No</td>\n",
       "      <td>66.0</td>\n",
       "      <td>Mkt&amp;HR</td>\n",
       "      <td>59.43</td>\n",
       "      <td>Not Placed</td>\n",
       "      <td>NaN</td>\n",
       "    </tr>\n",
       "    <tr>\n",
       "      <th>4</th>\n",
       "      <td>5</td>\n",
       "      <td>M</td>\n",
       "      <td>85.80</td>\n",
       "      <td>Central</td>\n",
       "      <td>73.60</td>\n",
       "      <td>Central</td>\n",
       "      <td>Commerce</td>\n",
       "      <td>73.30</td>\n",
       "      <td>Comm&amp;Mgmt</td>\n",
       "      <td>No</td>\n",
       "      <td>96.8</td>\n",
       "      <td>Mkt&amp;Fin</td>\n",
       "      <td>55.50</td>\n",
       "      <td>Placed</td>\n",
       "      <td>425000.0</td>\n",
       "    </tr>\n",
       "  </tbody>\n",
       "</table>\n",
       "</div>"
      ],
      "text/plain": [
       "   sl_no gender  ssc_p    ssc_b  hsc_p    hsc_b     hsc_s  degree_p  \\\n",
       "0      1      M  67.00   Others  91.00   Others  Commerce     58.00   \n",
       "1      2      M  79.33  Central  78.33   Others   Science     77.48   \n",
       "2      3      M  65.00  Central  68.00  Central      Arts     64.00   \n",
       "3      4      M  56.00  Central  52.00  Central   Science     52.00   \n",
       "4      5      M  85.80  Central  73.60  Central  Commerce     73.30   \n",
       "\n",
       "    degree_t workex  etest_p specialisation  mba_p      status    salary  \n",
       "0   Sci&Tech     No     55.0         Mkt&HR  58.80      Placed  270000.0  \n",
       "1   Sci&Tech    Yes     86.5        Mkt&Fin  66.28      Placed  200000.0  \n",
       "2  Comm&Mgmt     No     75.0        Mkt&Fin  57.80      Placed  250000.0  \n",
       "3   Sci&Tech     No     66.0         Mkt&HR  59.43  Not Placed       NaN  \n",
       "4  Comm&Mgmt     No     96.8        Mkt&Fin  55.50      Placed  425000.0  "
      ]
     },
     "execution_count": 2,
     "metadata": {},
     "output_type": "execute_result"
    }
   ],
   "source": [
    "import pandas as pd\n",
    "dataset=pd.read_csv(\"Placement.csv\")\n",
    "dataset.head()"
   ]
  },
  {
   "cell_type": "code",
   "execution_count": 3,
   "id": "1062b95d",
   "metadata": {},
   "outputs": [],
   "source": [
    "#test syntax\n",
    "#IndependentSample\n",
    "#DifferentGroup(qualcolumn,qualcolumn)but same condition(quan column)\n",
    "from scipy.stats import ttest_ind\n",
    "dataset=dataset.dropna()\n",
    "male=dataset[dataset[\"gender\"]=='M'][\"salary\"]\n",
    "female=dataset[dataset[\"gender\"]==\"F\"][\"salary\"]\n",
    "t_ans=ttest_ind(male,female)"
   ]
  },
  {
   "cell_type": "code",
   "execution_count": 4,
   "id": "d7dbde00",
   "metadata": {},
   "outputs": [
    {
     "data": {
      "text/plain": [
       "Ttest_indResult(statistic=1.9448521615505496, pvalue=0.053714668806405776)"
      ]
     },
     "execution_count": 4,
     "metadata": {},
     "output_type": "execute_result"
    }
   ],
   "source": [
    "t_ans"
   ]
  },
  {
   "cell_type": "code",
   "execution_count": 6,
   "id": "36846efd",
   "metadata": {},
   "outputs": [
    {
     "data": {
      "text/plain": [
       "['__add__',\n",
       " '__class__',\n",
       " '__contains__',\n",
       " '__delattr__',\n",
       " '__dir__',\n",
       " '__doc__',\n",
       " '__eq__',\n",
       " '__format__',\n",
       " '__ge__',\n",
       " '__getattribute__',\n",
       " '__getitem__',\n",
       " '__getnewargs__',\n",
       " '__gt__',\n",
       " '__hash__',\n",
       " '__init__',\n",
       " '__init_subclass__',\n",
       " '__iter__',\n",
       " '__le__',\n",
       " '__len__',\n",
       " '__lt__',\n",
       " '__module__',\n",
       " '__mul__',\n",
       " '__ne__',\n",
       " '__new__',\n",
       " '__reduce__',\n",
       " '__reduce_ex__',\n",
       " '__repr__',\n",
       " '__rmul__',\n",
       " '__setattr__',\n",
       " '__sizeof__',\n",
       " '__slots__',\n",
       " '__str__',\n",
       " '__subclasshook__',\n",
       " '_asdict',\n",
       " '_field_defaults',\n",
       " '_fields',\n",
       " '_fields_defaults',\n",
       " '_make',\n",
       " '_replace',\n",
       " 'count',\n",
       " 'index',\n",
       " 'pvalue',\n",
       " 'statistic']"
      ]
     },
     "execution_count": 6,
     "metadata": {},
     "output_type": "execute_result"
    }
   ],
   "source": [
    "   #Hypothesis testing depends on pvalue\n",
    "dir(t_ans)"
   ]
  },
  {
   "cell_type": "code",
   "execution_count": 7,
   "id": "17339f33",
   "metadata": {},
   "outputs": [
    {
     "data": {
      "text/plain": [
       "0.053714668806405776"
      ]
     },
     "execution_count": 7,
     "metadata": {},
     "output_type": "execute_result"
    }
   ],
   "source": [
    "#ttest_pvalue alone\n",
    "t_ans.pvalue"
   ]
  },
  {
   "cell_type": "code",
   "execution_count": 10,
   "id": "c9732eb1",
   "metadata": {},
   "outputs": [
    {
     "name": "stdout",
     "output_type": "stream",
     "text": [
      "NullHypothesis:There is no significant same the salary of male and female candidate\n",
      "Alternate Hypothesis:There is significant same the salary of male and female candidate\n",
      "AcceptAlternateHypotheis\n"
     ]
    }
   ],
   "source": [
    "#Frame Question :Is significant same the salary of male and female candidate?\n",
    "#p<0.05(rejectnull)lessthan0.05\n",
    "\n",
    "print(\"NullHypothesis:There is no significant same the salary of male and female candidate\")\n",
    "print(\"Alternate Hypothesis:There is significant same the salary of male and female candidate\")\n",
    "if(t_ans.pvalue<0.05):\n",
    "    print(\"RejectNullHypothesis\")\n",
    "else:\n",
    "    print(\"AcceptAlternateHypotheis\")\n",
    "   \n",
    "    "
   ]
  },
  {
   "cell_type": "code",
   "execution_count": 15,
   "id": "24eab3dd",
   "metadata": {},
   "outputs": [],
   "source": [
    "#Dependent sample\n",
    "#same group(qual column)but differnentcondition(quancolumn,quancolumn)\n",
    "from scipy.stats import ttest_rel\n",
    "dataset=dataset.dropna()\n",
    "male=dataset[dataset[\"gender\"]=='M'][\"ssc_p\"]\n",
    "male1=dataset[dataset[\"gender\"]==\"M\"][\"hsc_p\"]\n",
    "t_answer=ttest_rel(male,male1)"
   ]
  },
  {
   "cell_type": "code",
   "execution_count": 16,
   "id": "ad2838a3",
   "metadata": {},
   "outputs": [
    {
     "data": {
      "text/plain": [
       "Ttest_relResult(statistic=0.881726473207718, pvalue=0.38006050142386005)"
      ]
     },
     "execution_count": 16,
     "metadata": {},
     "output_type": "execute_result"
    }
   ],
   "source": [
    "t_answer"
   ]
  },
  {
   "cell_type": "code",
   "execution_count": 14,
   "id": "04357441",
   "metadata": {},
   "outputs": [
    {
     "name": "stdout",
     "output_type": "stream",
     "text": [
      "NullHypothesis:There is no significant same gender of ssc and hsc candidate\n",
      "Alternate Hypothesis:There is significant same gender of ssc and hsc candidate\n",
      "AcceptAlternativeHypothesis\n"
     ]
    }
   ],
   "source": [
    "#Frame Question :Is significant same gender of ssc and hsc candidate scored mark?\n",
    "#p<0.05(rejectnull)lessthan0.05\n",
    "\n",
    "print(\"NullHypothesis:There is no significant same gender of ssc and hsc candidate\")\n",
    "print(\"Alternate Hypothesis:There is significant same gender of ssc and hsc candidate\")\n",
    "if(t_answer.pvalue<0.05):\n",
    "    print(\"RejectNullHypothesis\")\n",
    "else:\n",
    "    print(\"AcceptAlternativeHypothesis\")"
   ]
  }
 ],
 "metadata": {
  "kernelspec": {
   "display_name": "Python 3 (ipykernel)",
   "language": "python",
   "name": "python3"
  },
  "language_info": {
   "codemirror_mode": {
    "name": "ipython",
    "version": 3
   },
   "file_extension": ".py",
   "mimetype": "text/x-python",
   "name": "python",
   "nbconvert_exporter": "python",
   "pygments_lexer": "ipython3",
   "version": "3.7.6"
  }
 },
 "nbformat": 4,
 "nbformat_minor": 5
}
